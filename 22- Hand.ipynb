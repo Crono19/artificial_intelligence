{
 "cells": [
  {
   "cell_type": "code",
   "execution_count": 1,
   "id": "02d73470",
   "metadata": {},
   "outputs": [],
   "source": [
    "import mediapipe as mp\n",
    "import cv2"
   ]
  },
  {
   "cell_type": "code",
   "execution_count": 2,
   "id": "06d0c312",
   "metadata": {},
   "outputs": [],
   "source": [
    "mp_drawing = mp.solutions.drawing_utils\n",
    "mp_hands = mp.solutions.hands"
   ]
  },
  {
   "cell_type": "code",
   "execution_count": 3,
   "id": "21d8ba56",
   "metadata": {},
   "outputs": [],
   "source": [
    "file = 'images/manos.jpg'"
   ]
  },
  {
   "cell_type": "code",
   "execution_count": 4,
   "id": "7af32cc3",
   "metadata": {},
   "outputs": [
    {
     "name": "stdout",
     "output_type": "stream",
     "text": [
      "Handedness:  [classification {\n",
      "  index: 0\n",
      "  score: 0.986842871\n",
      "  label: \"Left\"\n",
      "}\n",
      ", classification {\n",
      "  index: 1\n",
      "  score: 0.95367527\n",
      "  label: \"Right\"\n",
      "}\n",
      "]\n"
     ]
    },
    {
     "name": "stderr",
     "output_type": "stream",
     "text": [
      "WARNING: All log messages before absl::InitializeLog() is called are written to STDERR\n",
      "I0000 00:00:1746631832.582849 2364516 gl_context.cc:369] GL version: 2.1 (2.1 Metal - 89.4), renderer: Apple M4 Pro\n",
      "INFO: Created TensorFlow Lite XNNPACK delegate for CPU.\n",
      "W0000 00:00:1746631832.588260 2364801 inference_feedback_manager.cc:114] Feedback manager requires a model with a single signature inference. Disabling support for feedback tensors.\n",
      "W0000 00:00:1746631832.592276 2364801 inference_feedback_manager.cc:114] Feedback manager requires a model with a single signature inference. Disabling support for feedback tensors.\n",
      "W0000 00:00:1746631832.609901 2364802 landmark_projection_calculator.cc:186] Using NORM_RECT without IMAGE_DIMENSIONS is only supported for the square ROI. Provide IMAGE_DIMENSIONS or use PROJECTION_MATRIX.\n"
     ]
    }
   ],
   "source": [
    "with mp_hands.Hands(\n",
    "    static_image_mode=True,\n",
    "    max_num_hands=2,\n",
    "    min_detection_confidence=0.5) as hands:\n",
    "  # Read an image from file\n",
    "  image = cv2.imread(file)\n",
    "  # Get image dimensions\n",
    "  height, width, _ = image.shape\n",
    "  # Flip the image horizontally for a later selfie-view display.\n",
    "  image = cv2.flip(image, 1)\n",
    "  # Convert the BGR image to RGB.\n",
    "  image_rgb = cv2.cvtColor(image, cv2.COLOR_BGR2RGB)\n",
    "  # Process the image and get hand landmarks.\n",
    "  results = hands.process(image_rgb)\n",
    "\n",
    "  print('Handedness: ', results.multi_handedness)\n",
    "\n",
    "  # Draw hand landmarks on the image.\n",
    "  if results.multi_hand_landmarks:\n",
    "    for hand_landmarks in results.multi_hand_landmarks:\n",
    "      mp_drawing.draw_landmarks(\n",
    "          image, hand_landmarks, mp_hands.HAND_CONNECTIONS)\n",
    "\n",
    "  # Convert the RGB image back to BGR.\n",
    "  image_bgr = cv2.cvtColor(image_rgb, cv2.COLOR_RGB2BGR)"
   ]
  },
  {
   "cell_type": "code",
   "execution_count": 5,
   "id": "faf79f06",
   "metadata": {},
   "outputs": [],
   "source": [
    "def distance(p1, p2):\n",
    "    return ((p2.x - p1.x) ** 2 + (p2.y - p1.y) ** 2) ** 0.5"
   ]
  },
  {
   "cell_type": "code",
   "execution_count": null,
   "id": "36670161",
   "metadata": {},
   "outputs": [],
   "source": []
  },
  {
   "cell_type": "code",
   "execution_count": 6,
   "id": "9b3a5ffe",
   "metadata": {},
   "outputs": [],
   "source": [
    "def finger_raised(landmarks, finger_tip, finger_dip, finger_pip, finger_mcp, umbral=0.2):\n",
    "    return ( \n",
    "            landmarks[finger_tip].y < landmarks[finger_dip].y and\n",
    "            landmarks[finger_dip].y < landmarks[finger_pip].y and\n",
    "            landmarks[finger_pip].y < landmarks[finger_mcp].y\n",
    "    )"
   ]
  },
  {
   "cell_type": "code",
   "execution_count": 7,
   "id": "949109aa",
   "metadata": {},
   "outputs": [],
   "source": [
    "if results.multi_hand_landmarks:\n",
    "    for hand_landmarks in results.multi_hand_landmarks:\n",
    "        # Draw hand landmarks on the image.\n",
    "        mp_drawing.draw_landmarks(image, hand_landmarks, mp_hands.HAND_CONNECTIONS)\n",
    "        # Get the landmarks as list\n",
    "        landmarks = hand_landmarks.landmark\n",
    "\n",
    "        PULGAR_TIP = 4\n",
    "        INDICE_TIP = 8\n",
    "        MEDIO_TIP = 12\n",
    "        ANULAR_TIP = 16\n",
    "        MENIQUE_TIP = 20\n",
    "\n",
    "        # Puntos para cada dedo (tip, dip, pip, mcp)\n",
    "        fingers = {\n",
    "            'pulgar': (PULGAR_TIP, 2, 1, 0),\n",
    "            'indice': (INDICE_TIP, 6, 5, 0),\n",
    "            'medio': (MEDIO_TIP, 10, 9, 0),\n",
    "            'anular': (ANULAR_TIP, 14, 13, 0),\n",
    "            'menique': (MENIQUE_TIP, 18, 17, 0)\n",
    "        }"
   ]
  },
  {
   "cell_type": "code",
   "execution_count": 8,
   "id": "dc15b1ff",
   "metadata": {},
   "outputs": [
    {
     "name": "stdout",
     "output_type": "stream",
     "text": [
      "Fingers raised:  ['pulgar', 'indice', 'medio', 'anular', 'menique']\n"
     ]
    }
   ],
   "source": [
    "# Verify raised fingers\n",
    "raised_fingers = []\n",
    "for name, (tip, dip, pip, mcp) in fingers.items():\n",
    "    if finger_raised(landmarks, tip, dip, pip, mcp):\n",
    "        raised_fingers.append(name)\n",
    "\n",
    "# Print the raised fingers\n",
    "print(\"Fingers raised: \", raised_fingers)"
   ]
  },
  {
   "cell_type": "code",
   "execution_count": 9,
   "id": "170e1dcd",
   "metadata": {},
   "outputs": [
    {
     "data": {
      "text/plain": [
       "array([[[21, 22, 18],\n",
       "        [21, 22, 18],\n",
       "        [22, 23, 19],\n",
       "        ...,\n",
       "        [16, 17, 13],\n",
       "        [16, 17, 13],\n",
       "        [16, 17, 13]],\n",
       "\n",
       "       [[21, 22, 18],\n",
       "        [21, 22, 18],\n",
       "        [22, 23, 19],\n",
       "        ...,\n",
       "        [16, 17, 13],\n",
       "        [16, 17, 13],\n",
       "        [16, 17, 13]],\n",
       "\n",
       "       [[22, 23, 19],\n",
       "        [22, 23, 19],\n",
       "        [21, 22, 18],\n",
       "        ...,\n",
       "        [16, 17, 13],\n",
       "        [16, 17, 13],\n",
       "        [16, 17, 13]],\n",
       "\n",
       "       ...,\n",
       "\n",
       "       [[12, 13,  9],\n",
       "        [12, 13,  9],\n",
       "        [12, 13,  9],\n",
       "        ...,\n",
       "        [11, 12,  8],\n",
       "        [11, 12,  8],\n",
       "        [11, 12,  8]],\n",
       "\n",
       "       [[12, 13,  9],\n",
       "        [12, 13,  9],\n",
       "        [12, 13,  9],\n",
       "        ...,\n",
       "        [11, 12,  8],\n",
       "        [11, 12,  8],\n",
       "        [11, 12,  8]],\n",
       "\n",
       "       [[12, 13,  9],\n",
       "        [12, 13,  9],\n",
       "        [12, 13,  9],\n",
       "        ...,\n",
       "        [11, 12,  8],\n",
       "        [11, 12,  8],\n",
       "        [11, 12,  8]]], dtype=uint8)"
      ]
     },
     "execution_count": 9,
     "metadata": {},
     "output_type": "execute_result"
    }
   ],
   "source": [
    "# Show the image with landmarks\n",
    "cv2.putText(image, \"Fingers raised: \" + \", \".join(raised_fingers), (10, 30), cv2.FONT_HERSHEY_SIMPLEX, 1, (0, 255, 0), 2)"
   ]
  },
  {
   "cell_type": "code",
   "execution_count": null,
   "id": "1c456999",
   "metadata": {},
   "outputs": [],
   "source": [
    "# Show the image with landmarks\n",
    "cv2.imshow('Hand Landmarks', image)\n",
    "cv2.waitKey(0)\n",
    "cv2.destroyAllWindows()"
   ]
  },
  {
   "cell_type": "code",
   "execution_count": null,
   "id": "2f251bd2",
   "metadata": {},
   "outputs": [],
   "source": []
  }
 ],
 "metadata": {
  "kernelspec": {
   "display_name": ".venv",
   "language": "python",
   "name": "python3"
  },
  "language_info": {
   "codemirror_mode": {
    "name": "ipython",
    "version": 3
   },
   "file_extension": ".py",
   "mimetype": "text/x-python",
   "name": "python",
   "nbconvert_exporter": "python",
   "pygments_lexer": "ipython3",
   "version": "3.11.12"
  }
 },
 "nbformat": 4,
 "nbformat_minor": 5
}
