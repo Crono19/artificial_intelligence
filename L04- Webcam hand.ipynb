{
 "cells": [
  {
   "cell_type": "code",
   "execution_count": 1,
   "id": "02d73470",
   "metadata": {},
   "outputs": [],
   "source": [
    "import mediapipe as mp\n",
    "import cv2"
   ]
  },
  {
   "cell_type": "code",
   "execution_count": 2,
   "id": "06d0c312",
   "metadata": {},
   "outputs": [],
   "source": [
    "mp_drawing = mp.solutions.drawing_utils\n",
    "mp_hands = mp.solutions.hands"
   ]
  },
  {
   "cell_type": "code",
   "execution_count": 3,
   "id": "28873bb7",
   "metadata": {},
   "outputs": [],
   "source": [
    "def distance(p1, p2):\n",
    "    return ((p2.x - p1.x) ** 2 + (p2.y - p1.y) ** 2 + (p2.z - p1.z) ** 2) ** 0.5"
   ]
  },
  {
   "cell_type": "code",
   "execution_count": 4,
   "id": "0a714f6c",
   "metadata": {},
   "outputs": [],
   "source": [
    "def finger_raised(landmarks):\n",
    "    fingers = {\n",
    "        'Pulgar': False,\n",
    "        'Indice': False,\n",
    "        'Medio': False,\n",
    "        'Anular': False,\n",
    "        'Menique': False\n",
    "    }\n",
    "\n",
    "    # Pulgar: comparar eje X (diferente si es mano izquierda o derecha)\n",
    "    # Si la palma está mirando al frente, comparamos 4 y 3\n",
    "    if landmarks[17].x < landmarks[5].x:  # mano derecha\n",
    "        fingers['Pulgar'] = landmarks[4].x > landmarks[3].x\n",
    "    else:  # mano izquierda\n",
    "        fingers['Pulgar'] = landmarks[4].x < landmarks[3].x\n",
    "\n",
    "    # Otros dedos: eje Y (más arriba = más pequeño Y)\n",
    "    fingers['Indice'] = landmarks[8].y < landmarks[6].y\n",
    "    fingers['Medio'] = landmarks[12].y < landmarks[10].y\n",
    "    fingers['Anular'] = landmarks[16].y < landmarks[14].y\n",
    "    fingers['Menique'] = landmarks[20].y < landmarks[18].y\n",
    "\n",
    "    return fingers\n",
    "    "
   ]
  },
  {
   "cell_type": "code",
   "execution_count": 5,
   "id": "f4c3c3b3-4df6-44d5-a962-e81158929796",
   "metadata": {},
   "outputs": [],
   "source": [
    "def gesture_detection(fingers, landmarks):\n",
    "    def dist(a, b):\n",
    "        return distance(landmarks[a], landmarks[b])\n",
    "\n",
    "    def fingers_together():\n",
    "        return (\n",
    "            dist(8, 12) < 0.13 and  # Índice - Medio\n",
    "            dist(12, 16) < 0.13 and # Medio - Anular\n",
    "            dist(16, 20) < 0.13     # Anular - Meñique\n",
    "        )\n",
    "\n",
    "    if all(fingers.values()) and fingers_together():\n",
    "        return 'Alto ✋'\n",
    "    elif fingers['Indice'] and fingers['Menique'] and not any([fingers['Medio'], fingers['Anular'], fingers['Pulgar']]):\n",
    "        return 'Cuernos 🤘'\n",
    "    elif fingers['Menique'] and fingers['Pulgar'] and not any([fingers['Indice'], fingers['Medio'], fingers['Anular']]):\n",
    "        return 'Llámame 🤙'\n",
    "    elif fingers['Pulgar'] and fingers['Indice'] and fingers['Menique'] and not any([fingers['Medio'], fingers['Anular']]):\n",
    "        return 'Te quiero ❤️‍🔥'\n",
    "    elif all([fingers['Indice'], fingers['Medio'], fingers['Anular'], fingers['Menique']]) and \\\n",
    "     abs(landmarks[12].x - landmarks[16].x) > 0.06 and \\\n",
    "     abs(landmarks[8].x - landmarks[12].x) < 0.05 and \\\n",
    "     abs(landmarks[16].x - landmarks[20].x) < 0.05:\n",
    "        return 'Saludo vulcano 🖖'\n",
    "\n",
    "    elif not any(fingers.values()):\n",
    "        return 'Puño ✊'\n",
    "    elif fingers['Pulgar'] and fingers['Indice'] and not any([fingers['Medio'], fingers['Anular'], fingers['Menique']]) and dist(4, 8) < 0.09:\n",
    "        return 'Pinza 🤏'\n",
    "    elif fingers['Indice'] and not any([fingers['Pulgar'], fingers['Medio'], fingers['Anular'], fingers['Menique']]) and landmarks[8].x < landmarks[5].x:\n",
    "        return 'Señalar izquierda 👈'\n",
    "    elif fingers['Indice'] and not any([fingers['Pulgar'], fingers['Medio'], fingers['Anular'], fingers['Menique']]) and landmarks[8].x > landmarks[5].x:\n",
    "        return 'Señalar derecha 👉'\n",
    "    elif fingers['Pulgar'] and fingers['Indice'] and not any([fingers['Medio'], fingers['Anular'], fingers['Menique']]) and dist(4, 8) < 0.50 and dist(4, 12) > 0.12:\n",
    "        return 'Corazón coreano 🫰'\n",
    "\n",
    "    elif fingers['Indice'] and fingers['Medio'] and not any([fingers['Pulgar'], fingers['Anular'], fingers['Menique']]):\n",
    "        return 'Victory ✌️'\n",
    "    elif fingers['Pulgar'] and not any([fingers['Indice'], fingers['Medio'], fingers['Anular'], fingers['Menique']]):\n",
    "        return 'Pulgar arriba 👍'\n",
    "    elif any([fingers['Medio'], fingers['Anular'], fingers['Menique']]) and dist(4, 8) < 0.05:\n",
    "        return 'Ok 👌'\n",
    "    elif all(fingers.values()):\n",
    "        return 'Mano abierta 🖐️'\n",
    "\n",
    "    return 'Gesto no definido'\n",
    "\n"
   ]
  },
  {
   "cell_type": "code",
   "execution_count": 6,
   "id": "21d8ba56",
   "metadata": {},
   "outputs": [
    {
     "name": "stderr",
     "output_type": "stream",
     "text": [
      "2025-05-19 09:50:18.016 Python[15702:1083135] WARNING: AVCaptureDeviceTypeExternal is deprecated for Continuity Cameras. Please use AVCaptureDeviceTypeContinuityCamera and add NSCameraUseContinuityCameraDeviceType to your Info.plist.\n"
     ]
    }
   ],
   "source": [
    "cap = cv2.VideoCapture(0)"
   ]
  },
  {
   "cell_type": "code",
   "execution_count": null,
   "id": "7af32cc3",
   "metadata": {},
   "outputs": [
    {
     "name": "stderr",
     "output_type": "stream",
     "text": [
      "WARNING: All log messages before absl::InitializeLog() is called are written to STDERR\n",
      "I0000 00:00:1747669818.673977 1083135 gl_context.cc:369] GL version: 2.1 (2.1 Metal - 89.4), renderer: Apple M4 Pro\n",
      "INFO: Created TensorFlow Lite XNNPACK delegate for CPU.\n",
      "W0000 00:00:1747669818.680521 1085152 inference_feedback_manager.cc:114] Feedback manager requires a model with a single signature inference. Disabling support for feedback tensors.\n",
      "W0000 00:00:1747669818.686788 1085152 inference_feedback_manager.cc:114] Feedback manager requires a model with a single signature inference. Disabling support for feedback tensors.\n",
      "W0000 00:00:1747669820.166824 1085152 landmark_projection_calculator.cc:186] Using NORM_RECT without IMAGE_DIMENSIONS is only supported for the square ROI. Provide IMAGE_DIMENSIONS or use PROJECTION_MATRIX.\n"
     ]
    }
   ],
   "source": [
    "with mp_hands.Hands(\n",
    "    static_image_mode=False,\n",
    "    max_num_hands=2,\n",
    "    min_detection_confidence=0.7,\n",
    "    min_tracking_confidence = 0.7) as hands:\n",
    "   \n",
    "  while cap.isOpened():\n",
    "    success, image = cap.read()\n",
    "    if not success:\n",
    "      print(\"Ignoring empty camera frame.\")\n",
    "      continue\n",
    "\n",
    "    # Flip the image horizontally for a later selfie-view display\n",
    "    image = cv2.flip(image, 1)\n",
    "\n",
    "    image_rgb = cv2.cvtColor(image, cv2.COLOR_BGR2RGB)\n",
    "\n",
    "    results = hands.process(image_rgb)\n",
    "\n",
    "    if results.multi_hand_landmarks:\n",
    "      for hand_landmarks in results.multi_hand_landmarks:\n",
    "        # Draw hand landmarks\n",
    "        mp_drawing.draw_landmarks(\n",
    "            image, hand_landmarks, mp_hands.HAND_CONNECTIONS)\n",
    "        \n",
    "        landmarks = hand_landmarks.landmark\n",
    "        \n",
    "        fingers = finger_raised(landmarks)\n",
    "        gesture = gesture_detection(fingers, landmarks)\n",
    "\n",
    "        # Show gesture detection\n",
    "        cv2.putText(image, f'Gesture: {gesture}', (10,50), cv2.FONT_HERSHEY_SIMPLEX, 1, (0, 255, 0), 2)\n",
    "\n",
    "        # Option\n",
    "        info_fingers = f'Fingers: {[k for k, v in fingers.items() if v]}'\n",
    "        cv2.putText(image, info_fingers, (10, 30), cv2.FONT_HERSHEY_SIMPLEX, 0.7, (25, 255, 0), 2)\n",
    "\n",
    "    cv2.imshow('Gesture Tracking', image)\n",
    "    if cv2.waitKey(5) & 0xFF == ord('q'):\n",
    "      break\n",
    "\n",
    "cap.release()\n",
    "cv2.destroyAllWindows()"
   ]
  },
  {
   "cell_type": "code",
   "execution_count": null,
   "id": "7bbe3f6c",
   "metadata": {},
   "outputs": [],
   "source": []
  }
 ],
 "metadata": {
  "kernelspec": {
   "display_name": ".venv",
   "language": "python",
   "name": "python3"
  },
  "language_info": {
   "codemirror_mode": {
    "name": "ipython",
    "version": 3
   },
   "file_extension": ".py",
   "mimetype": "text/x-python",
   "name": "python",
   "nbconvert_exporter": "python",
   "pygments_lexer": "ipython3",
   "version": "3.11.12"
  }
 },
 "nbformat": 4,
 "nbformat_minor": 5
}
